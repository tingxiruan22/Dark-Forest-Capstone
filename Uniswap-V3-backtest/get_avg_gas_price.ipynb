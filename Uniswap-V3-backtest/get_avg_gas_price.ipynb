{
 "cells": [
  {
   "cell_type": "code",
   "execution_count": 1,
   "id": "39fdab81",
   "metadata": {},
   "outputs": [],
   "source": [
    "import pandas as pd\n",
    "import requests\n",
    "import numpy as np"
   ]
  },
  {
   "cell_type": "code",
   "execution_count": 3,
   "id": "cc2198c5",
   "metadata": {},
   "outputs": [],
   "source": [
    "df = pd.read_csv(\"graph.csv\")"
   ]
  },
  {
   "cell_type": "code",
   "execution_count": 9,
   "id": "4125cb52",
   "metadata": {},
   "outputs": [
    {
     "data": {
      "text/plain": [
       "1620248400.0"
      ]
     },
     "execution_count": 9,
     "metadata": {},
     "output_type": "execute_result"
    }
   ],
   "source": [
    "df.iloc[0]['periodStartUnix']"
   ]
  },
  {
   "cell_type": "code",
   "execution_count": 12,
   "id": "bf6020a3",
   "metadata": {},
   "outputs": [
    {
     "ename": "KeyError",
     "evalue": "'data'",
     "output_type": "error",
     "traceback": [
      "\u001b[0;31m---------------------------------------------------------------------------\u001b[0m",
      "\u001b[0;31mKeyError\u001b[0m                                  Traceback (most recent call last)",
      "Cell \u001b[0;32mIn[12], line 29\u001b[0m\n\u001b[1;32m     26\u001b[0m df[\u001b[38;5;124m'\u001b[39m\u001b[38;5;124mavgGasPrice\u001b[39m\u001b[38;5;124m'\u001b[39m] \u001b[38;5;241m=\u001b[39m \u001b[38;5;241m0\u001b[39m\n\u001b[1;32m     28\u001b[0m \u001b[38;5;28;01mfor\u001b[39;00m index, row \u001b[38;5;129;01min\u001b[39;00m df\u001b[38;5;241m.\u001b[39miterrows():\n\u001b[0;32m---> 29\u001b[0m     avg_gas_price \u001b[38;5;241m=\u001b[39m \u001b[43mquery_avg_gas_price\u001b[49m\u001b[43m(\u001b[49m\u001b[43mrow\u001b[49m\u001b[43m[\u001b[49m\u001b[38;5;124;43m'\u001b[39;49m\u001b[38;5;124;43mperiodStartUnix\u001b[39;49m\u001b[38;5;124;43m'\u001b[39;49m\u001b[43m]\u001b[49m\u001b[43m,\u001b[49m\u001b[43m \u001b[49m\u001b[43mrow\u001b[49m\u001b[43m[\u001b[49m\u001b[38;5;124;43m'\u001b[39;49m\u001b[38;5;124;43mperiodStartUnix\u001b[39;49m\u001b[38;5;124;43m'\u001b[39;49m\u001b[43m]\u001b[49m\u001b[38;5;241;43m+\u001b[39;49m\u001b[38;5;241;43m3600\u001b[39;49m\u001b[43m)\u001b[49m\n\u001b[1;32m     30\u001b[0m     df\u001b[38;5;241m.\u001b[39mat[index, \u001b[38;5;124m'\u001b[39m\u001b[38;5;124mavgGasPrice\u001b[39m\u001b[38;5;124m'\u001b[39m] \u001b[38;5;241m=\u001b[39m avg_gas_price\n",
      "Cell \u001b[0;32mIn[12], line 22\u001b[0m, in \u001b[0;36mquery_avg_gas_price\u001b[0;34m(start, end)\u001b[0m\n\u001b[1;32m     19\u001b[0m data \u001b[38;5;241m=\u001b[39m response\u001b[38;5;241m.\u001b[39mjson()\n\u001b[1;32m     21\u001b[0m \u001b[38;5;66;03m# Extract gas prices and calculate average\u001b[39;00m\n\u001b[0;32m---> 22\u001b[0m gas_prices \u001b[38;5;241m=\u001b[39m [\u001b[38;5;28mint\u001b[39m(tx[\u001b[38;5;124m'\u001b[39m\u001b[38;5;124mgasPrice\u001b[39m\u001b[38;5;124m'\u001b[39m]) \u001b[38;5;28;01mfor\u001b[39;00m tx \u001b[38;5;129;01min\u001b[39;00m \u001b[43mdata\u001b[49m\u001b[43m[\u001b[49m\u001b[38;5;124;43m'\u001b[39;49m\u001b[38;5;124;43mdata\u001b[39;49m\u001b[38;5;124;43m'\u001b[39;49m\u001b[43m]\u001b[49m[\u001b[38;5;124m'\u001b[39m\u001b[38;5;124mtransactions\u001b[39m\u001b[38;5;124m'\u001b[39m]]\n\u001b[1;32m     23\u001b[0m \u001b[38;5;28;01mreturn\u001b[39;00m np\u001b[38;5;241m.\u001b[39mmean(gas_prices) \u001b[38;5;28;01mif\u001b[39;00m gas_prices \u001b[38;5;28;01melse\u001b[39;00m \u001b[38;5;241m0\u001b[39m\n",
      "\u001b[0;31mKeyError\u001b[0m: 'data'"
     ]
    }
   ],
   "source": [
    "# GraphQL endpoint for the Subgraph\n",
    "endpoint = \"https://api.thegraph.com/subgraphs/name/your-subgraph\"\n",
    "\n",
    "def query_avg_gas_price(start, end):\n",
    "    query = \"\"\"\n",
    "    {\n",
    "      transactions(where: { timestamp_gte: \"START_TIMESTAMP\", \n",
    "                            timestamp_lte: \"END_TIMESTAMP\",\n",
    "                            pool_address: '0x88e6a0c2ddd26feeb64f039a2c41296fcb3f5640',\n",
    "                          }) \n",
    "      {\n",
    "        gasUsed\n",
    "        gasPrice\n",
    "      }\n",
    "    }\n",
    "    \"\"\".replace(\"START_TIMESTAMP\", str(start)).replace(\"END_TIMESTAMP\", str(end))\n",
    "\n",
    "    response = requests.post(endpoint, json={'query': query})\n",
    "    data = response.json()\n",
    "\n",
    "    # Extract gas prices and calculate average\n",
    "    gas_prices = [int(tx['gasPrice']) for tx in data['data']['transactions']]\n",
    "    return np.mean(gas_prices) if gas_prices else 0\n",
    "\n",
    "# Add a new column for average gas price\n",
    "df['avgGasPrice'] = 0\n",
    "\n",
    "for index, row in df.iterrows():\n",
    "    avg_gas_price = query_avg_gas_price(row['periodStartUnix'], row['periodStartUnix']+3600)\n",
    "    df.at[index, 'avgGasPrice'] = avg_gas_price"
   ]
  },
  {
   "cell_type": "code",
   "execution_count": 14,
   "id": "53056395",
   "metadata": {},
   "outputs": [
    {
     "data": {
      "text/plain": [
       "{'errors': [{'locations': [{'line': 5, 'column': 43}],\n",
       "   'message': \"Unexpected `unexpected character '\\\\''`\\nExpected `IntValue`, `FloatValue`, `StringValue`, `BlockString`, `true`, `false`, `null` or `Name`\"}]}"
      ]
     },
     "execution_count": 14,
     "metadata": {},
     "output_type": "execute_result"
    }
   ],
   "source": [
    "query = \"\"\"\n",
    "    {\n",
    "      transactions(where: { timestamp_gte: '1620248400', \n",
    "                            timestamp_lte: '1620252000',\n",
    "                            id: '0x88e6a0c2ddd26feeb64f039a2c41296fcb3f5640',\n",
    "                          }) \n",
    "      {\n",
    "        gasUsed\n",
    "        gasPrice\n",
    "      }\n",
    "    }\n",
    "    \"\"\"\n",
    "\n",
    "response = requests.post(endpoint, json={'query': query})\n",
    "data = response.json()\n",
    "data"
   ]
  },
  {
   "cell_type": "code",
   "execution_count": 15,
   "id": "6d70714c",
   "metadata": {},
   "outputs": [],
   "source": [
    "import degenbot"
   ]
  },
  {
   "cell_type": "code",
   "execution_count": 19,
   "id": "1517ad83",
   "metadata": {},
   "outputs": [
    {
     "ename": "ImportError",
     "evalue": "cannot import name 'Contract' from 'brownie' (/opt/anaconda3/envs/py10/lib/python3.10/site-packages/brownie/__init__.py)",
     "output_type": "error",
     "traceback": [
      "\u001b[0;31m---------------------------------------------------------------------------\u001b[0m",
      "\u001b[0;31mImportError\u001b[0m                               Traceback (most recent call last)",
      "Cell \u001b[0;32mIn[19], line 1\u001b[0m\n\u001b[0;32m----> 1\u001b[0m lp \u001b[38;5;241m=\u001b[39m \u001b[43mdegenbot\u001b[49m\u001b[38;5;241;43m.\u001b[39;49m\u001b[43mV3LiquidityPool\u001b[49m\u001b[43m(\u001b[49m\u001b[38;5;124;43m'\u001b[39;49m\u001b[38;5;124;43m0x88e6a0c2ddd26feeb64f039a2c41296fcb3f5640\u001b[39;49m\u001b[38;5;124;43m'\u001b[39;49m\u001b[43m)\u001b[49m\n",
      "File \u001b[0;32m/opt/anaconda3/envs/py10/lib/python3.10/site-packages/degenbot/uniswap/v3_liquidity_pool.py:116\u001b[0m, in \u001b[0;36mV3LiquidityPool.__init__\u001b[0;34m(self, address, fee, lens, tokens, name, update_method, abi, factory_address, factory_init_hash, extra_words, silent, tick_data, tick_bitmap, state_block)\u001b[0m\n\u001b[1;32m    114\u001b[0m     \u001b[38;5;28mself\u001b[39m\u001b[38;5;241m.\u001b[39m_w3 \u001b[38;5;241m=\u001b[39m _web3\n\u001b[1;32m    115\u001b[0m \u001b[38;5;28;01melse\u001b[39;00m:\n\u001b[0;32m--> 116\u001b[0m     \u001b[38;5;28;01mfrom\u001b[39;00m \u001b[38;5;21;01mbrownie\u001b[39;00m \u001b[38;5;28;01mimport\u001b[39;00m Contract  \u001b[38;5;66;03m# type: ignore[import] # noqa: F401\u001b[39;00m\n\u001b[1;32m    117\u001b[0m     \u001b[38;5;28;01mfrom\u001b[39;00m \u001b[38;5;21;01mbrownie\u001b[39;00m \u001b[38;5;28;01mimport\u001b[39;00m multicall \u001b[38;5;28;01mas\u001b[39;00m brownie_multicall  \u001b[38;5;66;03m# noqa: F401\u001b[39;00m\n\u001b[1;32m    118\u001b[0m     \u001b[38;5;28;01mfrom\u001b[39;00m \u001b[38;5;21;01mbrownie\u001b[39;00m \u001b[38;5;28;01mimport\u001b[39;00m web3 \u001b[38;5;28;01mas\u001b[39;00m brownie_web3\n",
      "\u001b[0;31mImportError\u001b[0m: cannot import name 'Contract' from 'brownie' (/opt/anaconda3/envs/py10/lib/python3.10/site-packages/brownie/__init__.py)"
     ]
    }
   ],
   "source": [
    "lp = degenbot.V3LiquidityPool('0x88e6a0c2ddd26feeb64f039a2c41296fcb3f5640')"
   ]
  },
  {
   "cell_type": "code",
   "execution_count": null,
   "id": "bfa44b96",
   "metadata": {},
   "outputs": [],
   "source": []
  },
  {
   "cell_type": "code",
   "execution_count": null,
   "id": "a6ad6aa3",
   "metadata": {},
   "outputs": [],
   "source": []
  },
  {
   "cell_type": "code",
   "execution_count": null,
   "id": "c1c56334",
   "metadata": {},
   "outputs": [],
   "source": []
  }
 ],
 "metadata": {
  "kernelspec": {
   "display_name": "Python 3 (ipykernel)",
   "language": "python",
   "name": "python3"
  },
  "language_info": {
   "codemirror_mode": {
    "name": "ipython",
    "version": 3
   },
   "file_extension": ".py",
   "mimetype": "text/x-python",
   "name": "python",
   "nbconvert_exporter": "python",
   "pygments_lexer": "ipython3",
   "version": "3.10.12"
  }
 },
 "nbformat": 4,
 "nbformat_minor": 5
}
